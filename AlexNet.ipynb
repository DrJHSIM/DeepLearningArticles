{
  "cells": [
    {
      "cell_type": "markdown",
      "metadata": {
        "id": "view-in-github",
        "colab_type": "text"
      },
      "source": [
        "<a href=\"https://colab.research.google.com/github/DrJHSIM/DeepLearningArticles/blob/main/AlexNet.ipynb\" target=\"_parent\"><img src=\"https://colab.research.google.com/assets/colab-badge.svg\" alt=\"Open In Colab\"/></a>"
      ]
    },
    {
      "cell_type": "code",
      "execution_count": 1,
      "metadata": {
        "id": "hQG81-dJa5KT"
      },
      "outputs": [],
      "source": [
        "import torch\n",
        "import torch.nn as nn\n",
        "from torch.utils.data import DataLoader\n",
        "from torchvision import datasets\n",
        "from torchvision import transforms\n",
        "from torchvision.transforms import ToTensor\n",
        "\n",
        "import torch.optim as optim\n",
        "import torch.nn.functional as F\n",
        "\n",
        "import torchvision.models as models\n",
        "from torchsummary import summary"
      ]
    },
    {
      "cell_type": "code",
      "source": [
        "transform = transforms.Compose([\n",
        "    transforms.Resize(256),\n",
        "    transforms.CenterCrop(224),\n",
        "    transforms.RandomHorizontalFlip(p=1),\n",
        "    ToTensor(),\n",
        "    transforms.Normalize(mean=[0.485, 0.456, 0.406], std=[0.229, 0.224, 0.225])\n",
        "])"
      ],
      "metadata": {
        "id": "wpfq6bAnD3H3"
      },
      "execution_count": 11,
      "outputs": []
    },
    {
      "cell_type": "code",
      "execution_count": 12,
      "metadata": {
        "colab": {
          "base_uri": "https://localhost:8080/"
        },
        "id": "4X2EVh9Wccw8",
        "outputId": "cf9e8809-d05f-471a-a04f-9321373c29ed"
      },
      "outputs": [
        {
          "output_type": "stream",
          "name": "stdout",
          "text": [
            "Downloading https://www.cs.toronto.edu/~kriz/cifar-10-python.tar.gz to data/cifar-10-python.tar.gz\n"
          ]
        },
        {
          "output_type": "stream",
          "name": "stderr",
          "text": [
            "100%|██████████| 170498071/170498071 [00:49<00:00, 3419445.00it/s]\n"
          ]
        },
        {
          "output_type": "stream",
          "name": "stdout",
          "text": [
            "Extracting data/cifar-10-python.tar.gz to data\n",
            "Files already downloaded and verified\n"
          ]
        }
      ],
      "source": [
        "# Download training data from open datasets.\n",
        "training_data = datasets.CIFAR10(\n",
        "    root=\"data\",\n",
        "    train=True,\n",
        "    download=True,\n",
        "    transform = transform)\n",
        "\n",
        "\n",
        "# Download test data from open datasets.\n",
        "test_data = datasets.CIFAR10(\n",
        "    root=\"data\",\n",
        "    train=False,\n",
        "    download=True,\n",
        "    transform = transform)"
      ]
    },
    {
      "cell_type": "code",
      "execution_count": 13,
      "metadata": {
        "id": "v8m1Lwpvd3cA"
      },
      "outputs": [],
      "source": [
        "batch_size = 64\n",
        "\n",
        "# Create data loaders.\n",
        "train_dataloader = DataLoader(training_data, batch_size=batch_size)\n",
        "test_dataloader = DataLoader(test_data, batch_size=batch_size)"
      ]
    },
    {
      "cell_type": "code",
      "execution_count": 14,
      "metadata": {
        "colab": {
          "base_uri": "https://localhost:8080/"
        },
        "id": "LupnOzj1d5Vv",
        "outputId": "c9e96324-ff73-489a-b98c-89eb03cd34ba"
      },
      "outputs": [
        {
          "output_type": "stream",
          "name": "stdout",
          "text": [
            "Using cuda device\n"
          ]
        }
      ],
      "source": [
        "# Get cpu, gpu or mps device for training.\n",
        "device = (\n",
        "    \"cuda\"\n",
        "    if torch.cuda.is_available()\n",
        "    else \"cpu\"\n",
        ")\n",
        "print(f\"Using {device} device\")"
      ]
    },
    {
      "cell_type": "code",
      "source": [
        "class AlexNet(nn.Module):\n",
        "    def __init__(self):\n",
        "        super().__init__()\n",
        "        self.cnns = nn.Sequential(\n",
        "            #conv1\n",
        "            nn.Conv2d(3, 96 , 11, stride = 4),\n",
        "            nn.ReLU(),\n",
        "            nn.LocalResponseNorm(5, alpha=0.0001, beta=0.75, k=2.0),\n",
        "            nn.MaxPool2d(kernel_size = 3, stride = 2),\n",
        "            #conv2\n",
        "            nn.Conv2d(96, 256, 5, stride = 1, padding = 2),\n",
        "            nn.ReLU(),\n",
        "            nn.LocalResponseNorm(5, alpha=0.0001, beta=0.75, k=2.0),\n",
        "            nn.MaxPool2d(kernel_size = 3, stride = 2),\n",
        "            #conv3\n",
        "            nn.Conv2d(256, 384, 3, stride = 1, padding = 1),\n",
        "            nn.ReLU(),\n",
        "            #conv4\n",
        "            nn.Conv2d(384, 384, 3, stride = 1, padding = 1),\n",
        "            nn.ReLU(),\n",
        "            #conv5\n",
        "            nn.Conv2d(384, 256, 3, stride = 1, padding = 1),\n",
        "            nn.ReLU(),\n",
        "            nn.MaxPool2d(kernel_size = 3, stride = 2),\n",
        "        )\n",
        "\n",
        "        self.classifier = nn.Sequential(\n",
        "            #fc1\n",
        "            nn.Linear(6400, 4096),\n",
        "            nn.ReLU(),\n",
        "            nn.Dropout(),\n",
        "            #fc2\n",
        "            nn.Linear(4096, 4096),\n",
        "            nn.ReLU(),\n",
        "            nn.Dropout(),\n",
        "            #fc3\n",
        "            nn.Linear(4096, 10)\n",
        "        )\n",
        "\n",
        "    def init_weights_bias(self):\n",
        "        for layer in self.cnns:\n",
        "            if isinstance(layer, nn.Conv2d):\n",
        "                nn.init.norm_(layer.weights, mean = 0, std =0.01)\n",
        "                nn.init.constant_(layer.bias, 0)\n",
        "    #conv 2, 4, 5는 bias 1로 초기화\n",
        "        nn.init.constant_(self.cnns[4].bias, 1)\n",
        "        nn.init.constant_(self.cnns[10].bias, 1)\n",
        "        nn.init.constant_(self.cnns[12].bias, 1)\n",
        "\n",
        "    def forward(self, x):\n",
        "        x = self.cnns(x)\n",
        "        x = torch.flatten(x, 1)\n",
        "        x = self.classifier(x)\n",
        "        return x\n",
        "\n",
        "model = AlexNet().to(device)\n",
        "print(model)"
      ],
      "metadata": {
        "colab": {
          "base_uri": "https://localhost:8080/"
        },
        "id": "JdNMbWRWGGTO",
        "outputId": "a5e6905a-9ea1-467a-89a6-ce1afbbea507"
      },
      "execution_count": 33,
      "outputs": [
        {
          "output_type": "stream",
          "name": "stdout",
          "text": [
            "AlexNet(\n",
            "  (cnns): Sequential(\n",
            "    (0): Conv2d(3, 96, kernel_size=(11, 11), stride=(4, 4))\n",
            "    (1): ReLU()\n",
            "    (2): LocalResponseNorm(5, alpha=0.0001, beta=0.75, k=2.0)\n",
            "    (3): MaxPool2d(kernel_size=3, stride=2, padding=0, dilation=1, ceil_mode=False)\n",
            "    (4): Conv2d(96, 256, kernel_size=(5, 5), stride=(1, 1), padding=(2, 2))\n",
            "    (5): ReLU()\n",
            "    (6): LocalResponseNorm(5, alpha=0.0001, beta=0.75, k=2.0)\n",
            "    (7): MaxPool2d(kernel_size=3, stride=2, padding=0, dilation=1, ceil_mode=False)\n",
            "    (8): Conv2d(256, 384, kernel_size=(3, 3), stride=(1, 1), padding=(1, 1))\n",
            "    (9): ReLU()\n",
            "    (10): Conv2d(384, 384, kernel_size=(3, 3), stride=(1, 1), padding=(1, 1))\n",
            "    (11): ReLU()\n",
            "    (12): Conv2d(384, 256, kernel_size=(3, 3), stride=(1, 1), padding=(1, 1))\n",
            "    (13): ReLU()\n",
            "    (14): MaxPool2d(kernel_size=3, stride=2, padding=0, dilation=1, ceil_mode=False)\n",
            "  )\n",
            "  (classifier): Sequential(\n",
            "    (0): Linear(in_features=6400, out_features=4096, bias=True)\n",
            "    (1): ReLU()\n",
            "    (2): Dropout(p=0.5, inplace=False)\n",
            "    (3): Linear(in_features=4096, out_features=4096, bias=True)\n",
            "    (4): ReLU()\n",
            "    (5): Dropout(p=0.5, inplace=False)\n",
            "    (6): Linear(in_features=4096, out_features=10, bias=True)\n",
            "  )\n",
            ")\n"
          ]
        }
      ]
    },
    {
      "cell_type": "code",
      "source": [
        "summary(model, (3, 224, 224))"
      ],
      "metadata": {
        "colab": {
          "base_uri": "https://localhost:8080/"
        },
        "id": "kFWEAAs3PtMa",
        "outputId": "3fc3a926-d551-4a24-88b0-a747d15c0a1a"
      },
      "execution_count": 34,
      "outputs": [
        {
          "output_type": "stream",
          "name": "stdout",
          "text": [
            "----------------------------------------------------------------\n",
            "        Layer (type)               Output Shape         Param #\n",
            "================================================================\n",
            "            Conv2d-1           [-1, 96, 54, 54]          34,944\n",
            "              ReLU-2           [-1, 96, 54, 54]               0\n",
            " LocalResponseNorm-3           [-1, 96, 54, 54]               0\n",
            "         MaxPool2d-4           [-1, 96, 26, 26]               0\n",
            "            Conv2d-5          [-1, 256, 26, 26]         614,656\n",
            "              ReLU-6          [-1, 256, 26, 26]               0\n",
            " LocalResponseNorm-7          [-1, 256, 26, 26]               0\n",
            "         MaxPool2d-8          [-1, 256, 12, 12]               0\n",
            "            Conv2d-9          [-1, 384, 12, 12]         885,120\n",
            "             ReLU-10          [-1, 384, 12, 12]               0\n",
            "           Conv2d-11          [-1, 384, 12, 12]       1,327,488\n",
            "             ReLU-12          [-1, 384, 12, 12]               0\n",
            "           Conv2d-13          [-1, 256, 12, 12]         884,992\n",
            "             ReLU-14          [-1, 256, 12, 12]               0\n",
            "        MaxPool2d-15            [-1, 256, 5, 5]               0\n",
            "           Linear-16                 [-1, 4096]      26,218,496\n",
            "             ReLU-17                 [-1, 4096]               0\n",
            "          Dropout-18                 [-1, 4096]               0\n",
            "           Linear-19                 [-1, 4096]      16,781,312\n",
            "             ReLU-20                 [-1, 4096]               0\n",
            "          Dropout-21                 [-1, 4096]               0\n",
            "           Linear-22                   [-1, 10]          40,970\n",
            "================================================================\n",
            "Total params: 46,787,978\n",
            "Trainable params: 46,787,978\n",
            "Non-trainable params: 0\n",
            "----------------------------------------------------------------\n",
            "Input size (MB): 0.57\n",
            "Forward/backward pass size (MB): 13.63\n",
            "Params size (MB): 178.48\n",
            "Estimated Total Size (MB): 192.69\n",
            "----------------------------------------------------------------\n"
          ]
        }
      ]
    },
    {
      "cell_type": "code",
      "execution_count": 35,
      "metadata": {
        "id": "VezQ9rOpd6oy"
      },
      "outputs": [],
      "source": [
        "loss_fn = nn.CrossEntropyLoss()\n",
        "optimizer = torch.optim.SGD(model.parameters(), lr=1e-2, momentum = 0.9, weight_decay = 0.0005)"
      ]
    },
    {
      "cell_type": "code",
      "execution_count": 36,
      "metadata": {
        "id": "YsCpzmGJd8ke"
      },
      "outputs": [],
      "source": [
        "def train(dataloader, model, loss_fn, optimizer):\n",
        "    size = len(dataloader.dataset)\n",
        "    model.train()\n",
        "    for batch, (X, y) in enumerate(dataloader):\n",
        "        X, y = X.to(device), y.to(device)\n",
        "\n",
        "        # Compute prediction error\n",
        "        pred = model(X)\n",
        "        loss = loss_fn(pred, y)\n",
        "\n",
        "        # Backpropagation\n",
        "        loss.backward()\n",
        "        optimizer.step()\n",
        "        optimizer.zero_grad()\n",
        "\n",
        "        if batch % 100 == 0:\n",
        "            loss, current = loss.item(), (batch + 1) * len(X)\n",
        "            print(f\"loss: {loss:>7f}  [{current:>5d}/{size:>5d}]\")"
      ]
    },
    {
      "cell_type": "code",
      "execution_count": 37,
      "metadata": {
        "id": "uhO55RXtd93_"
      },
      "outputs": [],
      "source": [
        "def test(dataloader, model, loss_fn):\n",
        "    size = len(dataloader.dataset)\n",
        "    num_batches = len(dataloader)\n",
        "    model.eval()\n",
        "    test_loss, correct = 0, 0\n",
        "    with torch.no_grad():\n",
        "        for X, y in dataloader:\n",
        "            X, y = X.to(device), y.to(device)\n",
        "            pred = model(X)\n",
        "            test_loss += loss_fn(pred, y).item()\n",
        "            correct += (pred.argmax(1) == y).type(torch.float).sum().item()\n",
        "    test_loss /= num_batches\n",
        "    correct /= size\n",
        "    print(f\"Test Error: \\n Accuracy: {(100*correct):>0.1f}%, Avg loss: {test_loss:>8f} \\n\")"
      ]
    },
    {
      "cell_type": "markdown",
      "metadata": {
        "id": "uoDDeJ4eegQ9"
      },
      "source": [
        "ToTensor()와 Resize위치 바꿈에 따라 성능 차이가 있음 (ToTensor()가 먼저 나오면 정확도 10%에서 멈춤)"
      ]
    },
    {
      "cell_type": "code",
      "execution_count": 38,
      "metadata": {
        "colab": {
          "base_uri": "https://localhost:8080/"
        },
        "id": "97Zp3x37d_TP",
        "outputId": "9d109fef-91f4-472d-cac0-4d7173944208"
      },
      "outputs": [
        {
          "output_type": "stream",
          "name": "stdout",
          "text": [
            "Epoch 1\n",
            "-------------------------------\n",
            "loss: 2.304719  [   64/50000]\n",
            "loss: 2.304467  [ 6464/50000]\n",
            "loss: 2.290172  [12864/50000]\n",
            "loss: 2.132351  [19264/50000]\n",
            "loss: 2.112712  [25664/50000]\n",
            "loss: 1.933747  [32064/50000]\n",
            "loss: 1.907412  [38464/50000]\n",
            "loss: 1.746546  [44864/50000]\n",
            "Test Error: \n",
            " Accuracy: 36.7%, Avg loss: 1.705860 \n",
            "\n",
            "Epoch 2\n",
            "-------------------------------\n",
            "loss: 1.803141  [   64/50000]\n",
            "loss: 1.482714  [ 6464/50000]\n",
            "loss: 1.225671  [12864/50000]\n",
            "loss: 1.406464  [19264/50000]\n",
            "loss: 1.352107  [25664/50000]\n",
            "loss: 1.399835  [32064/50000]\n",
            "loss: 1.354115  [38464/50000]\n",
            "loss: 1.335102  [44864/50000]\n",
            "Test Error: \n",
            " Accuracy: 55.4%, Avg loss: 1.246560 \n",
            "\n",
            "Epoch 3\n",
            "-------------------------------\n",
            "loss: 1.300040  [   64/50000]\n",
            "loss: 1.243111  [ 6464/50000]\n",
            "loss: 1.034865  [12864/50000]\n",
            "loss: 1.040325  [19264/50000]\n",
            "loss: 1.181636  [25664/50000]\n",
            "loss: 1.227773  [32064/50000]\n",
            "loss: 1.054021  [38464/50000]\n",
            "loss: 0.960721  [44864/50000]\n",
            "Test Error: \n",
            " Accuracy: 67.7%, Avg loss: 0.938842 \n",
            "\n",
            "Epoch 4\n",
            "-------------------------------\n",
            "loss: 0.951249  [   64/50000]\n",
            "loss: 0.923481  [ 6464/50000]\n",
            "loss: 0.775804  [12864/50000]\n",
            "loss: 0.783178  [19264/50000]\n",
            "loss: 0.958409  [25664/50000]\n",
            "loss: 1.188044  [32064/50000]\n",
            "loss: 0.860591  [38464/50000]\n",
            "loss: 0.823606  [44864/50000]\n",
            "Test Error: \n",
            " Accuracy: 71.1%, Avg loss: 0.843564 \n",
            "\n",
            "Epoch 5\n",
            "-------------------------------\n",
            "loss: 0.812796  [   64/50000]\n",
            "loss: 0.810231  [ 6464/50000]\n",
            "loss: 0.656189  [12864/50000]\n",
            "loss: 0.652265  [19264/50000]\n",
            "loss: 0.855685  [25664/50000]\n",
            "loss: 1.080426  [32064/50000]\n",
            "loss: 0.693311  [38464/50000]\n",
            "loss: 0.663649  [44864/50000]\n",
            "Test Error: \n",
            " Accuracy: 74.1%, Avg loss: 0.764055 \n",
            "\n",
            "Epoch 6\n",
            "-------------------------------\n",
            "loss: 0.686059  [   64/50000]\n",
            "loss: 0.808312  [ 6464/50000]\n",
            "loss: 0.539754  [12864/50000]\n",
            "loss: 0.549586  [19264/50000]\n",
            "loss: 0.685685  [25664/50000]\n",
            "loss: 0.763517  [32064/50000]\n",
            "loss: 0.518903  [38464/50000]\n",
            "loss: 0.622748  [44864/50000]\n",
            "Test Error: \n",
            " Accuracy: 74.5%, Avg loss: 0.767163 \n",
            "\n",
            "Epoch 7\n",
            "-------------------------------\n",
            "loss: 0.653873  [   64/50000]\n",
            "loss: 0.629959  [ 6464/50000]\n",
            "loss: 0.540103  [12864/50000]\n",
            "loss: 0.502499  [19264/50000]\n",
            "loss: 0.566373  [25664/50000]\n",
            "loss: 0.709304  [32064/50000]\n",
            "loss: 0.441956  [38464/50000]\n",
            "loss: 0.483273  [44864/50000]\n",
            "Test Error: \n",
            " Accuracy: 75.4%, Avg loss: 0.781590 \n",
            "\n",
            "Epoch 8\n",
            "-------------------------------\n",
            "loss: 0.630511  [   64/50000]\n",
            "loss: 0.394844  [ 6464/50000]\n",
            "loss: 0.448751  [12864/50000]\n",
            "loss: 0.403937  [19264/50000]\n",
            "loss: 0.522499  [25664/50000]\n",
            "loss: 0.588024  [32064/50000]\n",
            "loss: 0.431870  [38464/50000]\n",
            "loss: 0.341112  [44864/50000]\n",
            "Test Error: \n",
            " Accuracy: 75.0%, Avg loss: 0.860786 \n",
            "\n",
            "Epoch 9\n",
            "-------------------------------\n",
            "loss: 0.684416  [   64/50000]\n",
            "loss: 0.346292  [ 6464/50000]\n",
            "loss: 0.240427  [12864/50000]\n",
            "loss: 0.328894  [19264/50000]\n",
            "loss: 0.463133  [25664/50000]\n",
            "loss: 0.529089  [32064/50000]\n",
            "loss: 0.470280  [38464/50000]\n",
            "loss: 0.481245  [44864/50000]\n",
            "Test Error: \n",
            " Accuracy: 77.7%, Avg loss: 0.763637 \n",
            "\n",
            "Epoch 10\n",
            "-------------------------------\n",
            "loss: 0.274636  [   64/50000]\n",
            "loss: 0.395441  [ 6464/50000]\n",
            "loss: 0.278908  [12864/50000]\n",
            "loss: 0.423775  [19264/50000]\n",
            "loss: 0.324939  [25664/50000]\n",
            "loss: 0.557494  [32064/50000]\n",
            "loss: 0.496814  [38464/50000]\n",
            "loss: 0.495710  [44864/50000]\n",
            "Test Error: \n",
            " Accuracy: 75.8%, Avg loss: 0.844751 \n",
            "\n",
            "Done!\n"
          ]
        }
      ],
      "source": [
        "epochs = 10\n",
        "for t in range(epochs):\n",
        "    print(f\"Epoch {t+1}\\n-------------------------------\")\n",
        "    train(train_dataloader, model, loss_fn, optimizer)\n",
        "    test(test_dataloader, model, loss_fn)\n",
        "print(\"Done!\")"
      ]
    }
  ],
  "metadata": {
    "accelerator": "GPU",
    "colab": {
      "gpuType": "T4",
      "machine_shape": "hm",
      "provenance": [],
      "authorship_tag": "ABX9TyNPFF6nb6/g68spYJ08nKUk",
      "include_colab_link": true
    },
    "kernelspec": {
      "display_name": "Python 3",
      "name": "python3"
    },
    "language_info": {
      "name": "python"
    }
  },
  "nbformat": 4,
  "nbformat_minor": 0
}