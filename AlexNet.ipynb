{
  "cells": [
    {
      "cell_type": "markdown",
      "metadata": {
        "id": "view-in-github",
        "colab_type": "text"
      },
      "source": [
        "<a href=\"https://colab.research.google.com/github/DrJHSIM/DeepLearningArticles/blob/main/AlexNet.ipynb\" target=\"_parent\"><img src=\"https://colab.research.google.com/assets/colab-badge.svg\" alt=\"Open In Colab\"/></a>"
      ]
    },
    {
      "cell_type": "markdown",
      "metadata": {
        "id": "U-vfbn_6R0h0"
      },
      "source": [
        "2024_3_29 : AlexNet Torch Model에서 가지고와 테스트로 돌리기.\n",
        "2024_3_30 : AlexNet 논문과 몇 가지 다른 사람이 구현한 예제를 가지고 비교하며 수정."
      ]
    },
    {
      "cell_type": "code",
      "execution_count": 2,
      "metadata": {
        "id": "hQG81-dJa5KT"
      },
      "outputs": [],
      "source": [
        "import torch\n",
        "import torch.nn as nn\n",
        "from torch.utils.data import DataLoader\n",
        "from torchvision import datasets\n",
        "from torchvision import transforms\n",
        "from torchvision.transforms import ToTensor\n",
        "\n",
        "import torch.optim as optim\n",
        "import torch.nn.functional as F\n",
        "\n",
        "import torchvision.models as models"
      ]
    },
    {
      "cell_type": "code",
      "source": [
        "transform = transforms.Compose([\n",
        "    transforms.Resize(256),\n",
        "    transforms.CenterCrop(227),\n",
        "    transforms.RandomHorizontalFlip(p=0.5),\n",
        "    ToTensor(),\n",
        "    transforms.Normalize(mean=[0.485, 0.456, 0.406], std=[0.229, 0.224, 0.225])\n",
        "])"
      ],
      "metadata": {
        "id": "UBNc5KzIe7x_"
      },
      "execution_count": 9,
      "outputs": []
    },
    {
      "cell_type": "code",
      "execution_count": 10,
      "metadata": {
        "colab": {
          "base_uri": "https://localhost:8080/"
        },
        "id": "4X2EVh9Wccw8",
        "outputId": "b72535d3-1fa2-487a-9d42-ca3c6bdfd7c6"
      },
      "outputs": [
        {
          "output_type": "stream",
          "name": "stdout",
          "text": [
            "Files already downloaded and verified\n",
            "Files already downloaded and verified\n"
          ]
        }
      ],
      "source": [
        "# Download training data from open datasets.\n",
        "training_data = datasets.CIFAR10(\n",
        "    root=\"data\",\n",
        "    train=True,\n",
        "    download=True,\n",
        "    transform = transform)\n",
        "\n",
        "\n",
        "# Download test data from open datasets.\n",
        "test_data = datasets.CIFAR10(\n",
        "    root=\"data\",\n",
        "    train=False,\n",
        "    download=True,\n",
        "    transform = transform)"
      ]
    },
    {
      "cell_type": "code",
      "source": [
        "for x, y in training_data:\n",
        "    print(x.shape)\n",
        "    break"
      ],
      "metadata": {
        "colab": {
          "base_uri": "https://localhost:8080/"
        },
        "id": "8CklcXoGm4T_",
        "outputId": "e159c0ec-2ba9-4f90-dffa-31f4ecbd0994"
      },
      "execution_count": 19,
      "outputs": [
        {
          "output_type": "stream",
          "name": "stdout",
          "text": [
            "torch.Size([3, 227, 227])\n"
          ]
        }
      ]
    },
    {
      "cell_type": "markdown",
      "metadata": {
        "id": "IOaOUwMwhlk2"
      },
      "source": [
        "https://junha1125.github.io/blog/pytorch-docker-git/2020-08-03-CIFAR10_TransferLearning/"
      ]
    },
    {
      "cell_type": "markdown",
      "metadata": {
        "id": "dweo6IBujXQM"
      },
      "source": [
        "https://medium.com/nerd-for-tech/classification-on-cifar-10-32abe456302"
      ]
    },
    {
      "cell_type": "markdown",
      "metadata": {
        "id": "6cp_IOt3jlfY"
      },
      "source": [
        "https://wikidocs.net/49588"
      ]
    },
    {
      "cell_type": "code",
      "execution_count": 11,
      "metadata": {
        "id": "v8m1Lwpvd3cA"
      },
      "outputs": [],
      "source": [
        "batch_size = 64\n",
        "\n",
        "# Create data loaders.\n",
        "train_dataloader = DataLoader(training_data, batch_size=batch_size)\n",
        "test_dataloader = DataLoader(test_data, batch_size=batch_size)"
      ]
    },
    {
      "cell_type": "code",
      "execution_count": 12,
      "metadata": {
        "colab": {
          "base_uri": "https://localhost:8080/"
        },
        "id": "LupnOzj1d5Vv",
        "outputId": "5da5be4e-89e3-48bf-dae4-9783efec9ee3"
      },
      "outputs": [
        {
          "output_type": "stream",
          "name": "stdout",
          "text": [
            "Using cuda device\n"
          ]
        }
      ],
      "source": [
        "# Get cpu, gpu or mps device for training.\n",
        "device = (\n",
        "    \"cuda\"\n",
        "    if torch.cuda.is_available()\n",
        "    else \"mps\"\n",
        "    if torch.backends.mps.is_available()\n",
        "    else \"cpu\"\n",
        ")\n",
        "print(f\"Using {device} device\")"
      ]
    },
    {
      "cell_type": "markdown",
      "metadata": {
        "id": "00N_fGP8gZSe"
      },
      "source": [
        "https://pytorch.org/vision/stable/_modules/torchvision/models/alexnet.html#alexnet"
      ]
    },
    {
      "cell_type": "code",
      "execution_count": 20,
      "metadata": {
        "id": "8-hoWmbsgcMq"
      },
      "outputs": [],
      "source": [
        "class AlexNet(nn.Module):\n",
        "    def __init__(self, num_classes: int = 10, dropout: float = 0.5) -> None:\n",
        "        super().__init__()\n",
        "        self.features = nn.Sequential(\n",
        "            #conv1\n",
        "            nn.Conv2d(3, 96, kernel_size=11, stride=4),\n",
        "            nn.ReLU(inplace=True),\n",
        "            nn.LocalResponseNorm(size=5, alpha=0.0001, beta=0.75, k=2),\n",
        "            nn.MaxPool2d(kernel_size=3, stride=2),\n",
        "            #conv2\n",
        "            nn.Conv2d(96, 256, kernel_size=5, stride = 1, padding = 2),\n",
        "            nn.ReLU(inplace=True),\n",
        "            nn.LocalResponseNorm(size=5, alpha=0.0001, beta=0.75, k=2),\n",
        "            nn.MaxPool2d(kernel_size=3, stride=2),\n",
        "            #conv3\n",
        "            nn.Conv2d(256, 384, kernel_size=3, stride = 1, padding = 1),\n",
        "            nn.ReLU(inplace=True),\n",
        "            #conv4\n",
        "            nn.Conv2d(384, 384, kernel_size=3, stride = 1, padding = 1),\n",
        "            nn.ReLU(inplace=True),\n",
        "            #conv5\n",
        "            nn.Conv2d(384, 256, kernel_size=3, stride = 1, padding = 1),\n",
        "            nn.ReLU(inplace=True),\n",
        "            nn.MaxPool2d(kernel_size=3, stride=2)\n",
        "        )\n",
        "\n",
        "        self.classifier = nn.Sequential(\n",
        "            #fc6\n",
        "            nn.Dropout(p=dropout),\n",
        "            nn.Linear(256*6*6, 4096),\n",
        "            nn.ReLU(inplace=True),\n",
        "            #fc7\n",
        "            nn.Dropout(p=dropout),\n",
        "            nn.Linear(4096, 4096),\n",
        "            nn.ReLU(inplace=True),\n",
        "            #fc8\n",
        "            nn.Linear(4096, num_classes),\n",
        "        )\n",
        "\n",
        "    # bias, weight 초기화\n",
        "    def init_bias_weights(self):\n",
        "      for layer in self.features:\n",
        "        if isinstance(layer, nn.Conv2d):\n",
        "          nn.init.normal_(layer.weight, mean=0, std=0.01)   # weight 초기화\n",
        "          nn.init.constant_(layer.bias, 0)   # bias 초기화\n",
        "      # conv 2, 4, 5는 bias 1로 초기화\n",
        "      nn.init.constant_(self.features[4].bias, 1)\n",
        "      nn.init.constant_(self.features[10].bias, 1)\n",
        "      nn.init.constant_(self.features[12].bias, 1)\n",
        "\n",
        "\n",
        "    def forward(self, x: torch.Tensor) -> torch.Tensor:\n",
        "        x = self.features(x)\n",
        "        x = torch.flatten(x, 1)\n",
        "        logit = self.classifier(x)\n",
        "        return logit\n"
      ]
    },
    {
      "cell_type": "markdown",
      "metadata": {
        "id": "DFJFDI9_b9Zh"
      },
      "source": [
        "output 계산 :\n",
        "https://dingyan89.medium.com/calculating-parameters-of-convolutional-and-fully-connected-layers-with-keras-186590df36c6"
      ]
    },
    {
      "cell_type": "code",
      "execution_count": 21,
      "metadata": {
        "colab": {
          "base_uri": "https://localhost:8080/"
        },
        "id": "epk9_zSvgIL-",
        "outputId": "ea70284f-a909-4058-edb1-6638fff5d24a"
      },
      "outputs": [
        {
          "output_type": "stream",
          "name": "stdout",
          "text": [
            "AlexNet(\n",
            "  (features): Sequential(\n",
            "    (0): Conv2d(3, 96, kernel_size=(11, 11), stride=(4, 4))\n",
            "    (1): ReLU(inplace=True)\n",
            "    (2): LocalResponseNorm(5, alpha=0.0001, beta=0.75, k=2)\n",
            "    (3): MaxPool2d(kernel_size=3, stride=2, padding=0, dilation=1, ceil_mode=False)\n",
            "    (4): Conv2d(96, 256, kernel_size=(5, 5), stride=(1, 1), padding=(2, 2))\n",
            "    (5): ReLU(inplace=True)\n",
            "    (6): LocalResponseNorm(5, alpha=0.0001, beta=0.75, k=2)\n",
            "    (7): MaxPool2d(kernel_size=3, stride=2, padding=0, dilation=1, ceil_mode=False)\n",
            "    (8): Conv2d(256, 384, kernel_size=(3, 3), stride=(1, 1), padding=(1, 1))\n",
            "    (9): ReLU(inplace=True)\n",
            "    (10): Conv2d(384, 384, kernel_size=(3, 3), stride=(1, 1), padding=(1, 1))\n",
            "    (11): ReLU(inplace=True)\n",
            "    (12): Conv2d(384, 256, kernel_size=(3, 3), stride=(1, 1), padding=(1, 1))\n",
            "    (13): ReLU(inplace=True)\n",
            "    (14): MaxPool2d(kernel_size=3, stride=2, padding=0, dilation=1, ceil_mode=False)\n",
            "  )\n",
            "  (classifier): Sequential(\n",
            "    (0): Dropout(p=0.5, inplace=False)\n",
            "    (1): Linear(in_features=9216, out_features=4096, bias=True)\n",
            "    (2): ReLU(inplace=True)\n",
            "    (3): Dropout(p=0.5, inplace=False)\n",
            "    (4): Linear(in_features=4096, out_features=4096, bias=True)\n",
            "    (5): ReLU(inplace=True)\n",
            "    (6): Linear(in_features=4096, out_features=10, bias=True)\n",
            "  )\n",
            ")\n"
          ]
        }
      ],
      "source": [
        "model = AlexNet().to(device)\n",
        "print(model)"
      ]
    },
    {
      "cell_type": "code",
      "execution_count": 22,
      "metadata": {
        "id": "VezQ9rOpd6oy"
      },
      "outputs": [],
      "source": [
        "loss_fn = nn.CrossEntropyLoss()\n",
        "optimizer = torch.optim.Adam(model.parameters(), lr=1e-3)"
      ]
    },
    {
      "cell_type": "code",
      "execution_count": 23,
      "metadata": {
        "id": "YsCpzmGJd8ke"
      },
      "outputs": [],
      "source": [
        "def train(dataloader, model, loss_fn, optimizer):\n",
        "    size = len(dataloader.dataset)\n",
        "    model.train()\n",
        "    for batch, (X, y) in enumerate(dataloader):\n",
        "        X, y = X.to(device), y.to(device)\n",
        "\n",
        "        # Compute prediction error\n",
        "        pred = model(X)\n",
        "        loss = loss_fn(pred, y)\n",
        "\n",
        "        # Backpropagation\n",
        "        loss.backward()\n",
        "        optimizer.step()\n",
        "        optimizer.zero_grad()\n",
        "\n",
        "        if batch % 100 == 0:\n",
        "            loss, current = loss.item(), (batch + 1) * len(X)\n",
        "            print(f\"loss: {loss:>7f}  [{current:>5d}/{size:>5d}]\")"
      ]
    },
    {
      "cell_type": "code",
      "execution_count": 24,
      "metadata": {
        "id": "uhO55RXtd93_"
      },
      "outputs": [],
      "source": [
        "def test(dataloader, model, loss_fn):\n",
        "    size = len(dataloader.dataset)\n",
        "    num_batches = len(dataloader)\n",
        "    model.eval()\n",
        "    test_loss, correct = 0, 0\n",
        "    with torch.no_grad():\n",
        "        for X, y in dataloader:\n",
        "            X, y = X.to(device), y.to(device)\n",
        "            pred = model(X)\n",
        "            test_loss += loss_fn(pred, y).item()\n",
        "            correct += (pred.argmax(1) == y).type(torch.float).sum().item()\n",
        "    test_loss /= num_batches\n",
        "    correct /= size\n",
        "    print(f\"Test Error: \\n Accuracy: {(100*correct):>0.1f}%, Avg loss: {test_loss:>8f} \\n\")"
      ]
    },
    {
      "cell_type": "markdown",
      "metadata": {
        "id": "uoDDeJ4eegQ9"
      },
      "source": [
        "ToTensor()와 Resize위치 바꿈에 따라 성능 차이가 있음 (ToTensor()가 먼저 나오면 정확도 10%에서 멈춤)"
      ]
    },
    {
      "cell_type": "code",
      "execution_count": 26,
      "metadata": {
        "colab": {
          "base_uri": "https://localhost:8080/"
        },
        "id": "97Zp3x37d_TP",
        "outputId": "f50cfa6c-7118-4640-b780-c57999591474"
      },
      "outputs": [
        {
          "output_type": "stream",
          "name": "stdout",
          "text": [
            "Epoch 1\n",
            "-------------------------------\n",
            "loss: 1.378446  [   64/50000]\n",
            "loss: 1.331109  [ 6464/50000]\n",
            "loss: 1.084223  [12864/50000]\n",
            "loss: 1.266245  [19264/50000]\n",
            "loss: 1.109479  [25664/50000]\n",
            "loss: 1.441420  [32064/50000]\n",
            "loss: 1.110459  [38464/50000]\n",
            "loss: 1.380409  [44864/50000]\n",
            "Test Error: \n",
            " Accuracy: 57.1%, Avg loss: 1.214737 \n",
            "\n",
            "Epoch 2\n",
            "-------------------------------\n",
            "loss: 1.214322  [   64/50000]\n",
            "loss: 1.320377  [ 6464/50000]\n",
            "loss: 1.009027  [12864/50000]\n",
            "loss: 1.271639  [19264/50000]\n",
            "loss: 1.077908  [25664/50000]\n",
            "loss: 1.444918  [32064/50000]\n",
            "loss: 1.114537  [38464/50000]\n",
            "loss: 1.212335  [44864/50000]\n",
            "Test Error: \n",
            " Accuracy: 63.3%, Avg loss: 1.038045 \n",
            "\n",
            "Epoch 3\n",
            "-------------------------------\n",
            "loss: 1.138170  [   64/50000]\n",
            "loss: 1.166607  [ 6464/50000]\n",
            "loss: 1.033029  [12864/50000]\n",
            "loss: 1.137864  [19264/50000]\n",
            "loss: 0.960621  [25664/50000]\n",
            "loss: 1.154229  [32064/50000]\n",
            "loss: 1.021966  [38464/50000]\n",
            "loss: 1.136142  [44864/50000]\n",
            "Test Error: \n",
            " Accuracy: 64.7%, Avg loss: 1.025180 \n",
            "\n",
            "Epoch 4\n",
            "-------------------------------\n",
            "loss: 1.090563  [   64/50000]\n",
            "loss: 1.048139  [ 6464/50000]\n",
            "loss: 0.947660  [12864/50000]\n",
            "loss: 1.031532  [19264/50000]\n",
            "loss: 1.116111  [25664/50000]\n",
            "loss: 1.168157  [32064/50000]\n",
            "loss: 1.035655  [38464/50000]\n",
            "loss: 1.066143  [44864/50000]\n",
            "Test Error: \n",
            " Accuracy: 66.0%, Avg loss: 0.990231 \n",
            "\n",
            "Epoch 5\n",
            "-------------------------------\n",
            "loss: 1.035815  [   64/50000]\n",
            "loss: 1.227450  [ 6464/50000]\n",
            "loss: 0.830557  [12864/50000]\n",
            "loss: 1.043139  [19264/50000]\n",
            "loss: 1.042175  [25664/50000]\n",
            "loss: 1.315049  [32064/50000]\n",
            "loss: 0.995777  [38464/50000]\n",
            "loss: 1.039821  [44864/50000]\n",
            "Test Error: \n",
            " Accuracy: 66.0%, Avg loss: 0.987850 \n",
            "\n",
            "Epoch 6\n",
            "-------------------------------\n",
            "loss: 1.070296  [   64/50000]\n",
            "loss: 0.851683  [ 6464/50000]\n",
            "loss: 0.898505  [12864/50000]\n",
            "loss: 0.918558  [19264/50000]\n",
            "loss: 0.987272  [25664/50000]\n",
            "loss: 1.105795  [32064/50000]\n",
            "loss: 1.107216  [38464/50000]\n",
            "loss: 0.978249  [44864/50000]\n",
            "Test Error: \n",
            " Accuracy: 67.4%, Avg loss: 0.944689 \n",
            "\n",
            "Epoch 7\n",
            "-------------------------------\n",
            "loss: 1.146710  [   64/50000]\n",
            "loss: 1.122067  [ 6464/50000]\n",
            "loss: 0.705791  [12864/50000]\n",
            "loss: 0.917126  [19264/50000]\n",
            "loss: 0.982345  [25664/50000]\n",
            "loss: 1.267416  [32064/50000]\n",
            "loss: 0.813363  [38464/50000]\n",
            "loss: 0.903817  [44864/50000]\n",
            "Test Error: \n",
            " Accuracy: 68.5%, Avg loss: 0.920343 \n",
            "\n",
            "Epoch 8\n",
            "-------------------------------\n",
            "loss: 0.906048  [   64/50000]\n",
            "loss: 0.837091  [ 6464/50000]\n",
            "loss: 0.843730  [12864/50000]\n",
            "loss: 1.068736  [19264/50000]\n",
            "loss: 0.997408  [25664/50000]\n",
            "loss: 1.063616  [32064/50000]\n",
            "loss: 0.956985  [38464/50000]\n",
            "loss: 0.922874  [44864/50000]\n",
            "Test Error: \n",
            " Accuracy: 68.1%, Avg loss: 0.929447 \n",
            "\n",
            "Epoch 9\n",
            "-------------------------------\n",
            "loss: 0.960298  [   64/50000]\n",
            "loss: 0.896778  [ 6464/50000]\n",
            "loss: 0.690732  [12864/50000]\n",
            "loss: 1.039959  [19264/50000]\n",
            "loss: 0.853576  [25664/50000]\n",
            "loss: 1.038579  [32064/50000]\n",
            "loss: 0.896223  [38464/50000]\n",
            "loss: 1.043634  [44864/50000]\n",
            "Test Error: \n",
            " Accuracy: 69.4%, Avg loss: 0.896978 \n",
            "\n",
            "Epoch 10\n",
            "-------------------------------\n",
            "loss: 0.886625  [   64/50000]\n",
            "loss: 0.875699  [ 6464/50000]\n",
            "loss: 0.688457  [12864/50000]\n",
            "loss: 1.024609  [19264/50000]\n",
            "loss: 0.848182  [25664/50000]\n",
            "loss: 1.007968  [32064/50000]\n",
            "loss: 0.895208  [38464/50000]\n",
            "loss: 0.903331  [44864/50000]\n",
            "Test Error: \n",
            " Accuracy: 70.8%, Avg loss: 0.844253 \n",
            "\n",
            "Done!\n"
          ]
        }
      ],
      "source": [
        "epochs = 10\n",
        "for t in range(epochs):\n",
        "    print(f\"Epoch {t+1}\\n-------------------------------\")\n",
        "    train(train_dataloader, model, loss_fn, optimizer)\n",
        "    test(test_dataloader, model, loss_fn)\n",
        "print(\"Done!\")"
      ]
    },
    {
      "cell_type": "markdown",
      "metadata": {
        "id": "94CHqKG8T5VR"
      },
      "source": [
        "(2024-4-10 : initialize 중요하다)"
      ]
    },
    {
      "cell_type": "markdown",
      "metadata": {
        "id": "8CxK183MTpKD"
      },
      "source": [
        "(2024/4/9)정확도가 향상되지 않으므로 loss_fn, optimizer 등을 조정하여 향상시켜볼 것."
      ]
    },
    {
      "cell_type": "code",
      "execution_count": 27,
      "metadata": {
        "id": "6prbLZFieAZf",
        "colab": {
          "base_uri": "https://localhost:8080/"
        },
        "outputId": "048c9986-c79f-4a8c-ce78-6605919193c1"
      },
      "outputs": [
        {
          "output_type": "stream",
          "name": "stdout",
          "text": [
            "Saved PyTorch Model State to AlexNet_2024_4_26.pth\n"
          ]
        }
      ],
      "source": [
        "torch.save(model.state_dict(), \"AlexNet_2024_4_26.pth\")\n",
        "print(\"Saved PyTorch Model State to AlexNet_2024_4_26.pth\")"
      ]
    },
    {
      "cell_type": "code",
      "execution_count": 28,
      "metadata": {
        "id": "Jjk29xIyeBdv",
        "colab": {
          "base_uri": "https://localhost:8080/"
        },
        "outputId": "2988f12b-3ec3-45b8-8398-86306ec3b048"
      },
      "outputs": [
        {
          "output_type": "execute_result",
          "data": {
            "text/plain": [
              "<All keys matched successfully>"
            ]
          },
          "metadata": {},
          "execution_count": 28
        }
      ],
      "source": [
        "model = AlexNet().to(device)\n",
        "model.load_state_dict(torch.load(\"AlexNet_2024_4_26.pth\"))"
      ]
    },
    {
      "cell_type": "code",
      "execution_count": 43,
      "metadata": {
        "id": "k3Q7pONDeDQQ",
        "colab": {
          "base_uri": "https://localhost:8080/"
        },
        "outputId": "5c04603b-1fcc-4c52-90c2-fd1879adaef0"
      },
      "outputs": [
        {
          "output_type": "stream",
          "name": "stdout",
          "text": [
            "accuracy: 68.8%\n"
          ]
        }
      ],
      "source": [
        "classes = [\n",
        "    \"T-shirt/top\",\n",
        "    \"Trouser\",\n",
        "    \"Pullover\",\n",
        "    \"Dress\",\n",
        "    \"Coat\",\n",
        "    \"Sandal\",\n",
        "    \"Shirt\",\n",
        "    \"Sneaker\",\n",
        "    \"Bag\",\n",
        "    \"Ankle boot\",\n",
        "]\n",
        "\n",
        "\n",
        "model.eval()\n",
        "for x, y in test_dataloader:\n",
        "    x , y = x.to(device), y.to(device)\n",
        "    pred = model(x)\n",
        "    correct = (pred.argmax(axis = 1) == y).type(torch.float).sum()\n",
        "    accuracy = correct/len(x)*100\n",
        "    print(f\"accuracy: {accuracy:>0.1f}%\")\n",
        "    break"
      ]
    }
  ],
  "metadata": {
    "accelerator": "GPU",
    "colab": {
      "gpuType": "T4",
      "machine_shape": "hm",
      "provenance": [],
      "authorship_tag": "ABX9TyPU4q7U6+Vrz1ghYq7RFsPe",
      "include_colab_link": true
    },
    "kernelspec": {
      "display_name": "Python 3",
      "name": "python3"
    },
    "language_info": {
      "name": "python"
    }
  },
  "nbformat": 4,
  "nbformat_minor": 0
}