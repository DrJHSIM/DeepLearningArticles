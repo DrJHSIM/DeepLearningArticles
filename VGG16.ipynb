{
  "nbformat": 4,
  "nbformat_minor": 0,
  "metadata": {
    "colab": {
      "provenance": [],
      "machine_shape": "hm",
      "gpuType": "A100",
      "authorship_tag": "ABX9TyMEdm8S6np1108vrRFPkQFL",
      "include_colab_link": true
    },
    "kernelspec": {
      "name": "python3",
      "display_name": "Python 3"
    },
    "language_info": {
      "name": "python"
    },
    "accelerator": "GPU"
  },
  "cells": [
    {
      "cell_type": "markdown",
      "metadata": {
        "id": "view-in-github",
        "colab_type": "text"
      },
      "source": [
        "<a href=\"https://colab.research.google.com/github/DrJHSIM/DeepLearningArticles/blob/main/VGG16.ipynb\" target=\"_parent\"><img src=\"https://colab.research.google.com/assets/colab-badge.svg\" alt=\"Open In Colab\"/></a>"
      ]
    },
    {
      "cell_type": "markdown",
      "source": [
        "- 구현 환경 : Colab Pro, A100 GPU\n",
        "- [논문](https://arxiv.org/pdf/1409.1556v6)의 Table.1에서 D열 VGG16 모델"
      ],
      "metadata": {
        "id": "IUC6P03vd4Xj"
      }
    },
    {
      "cell_type": "code",
      "source": [
        "!nvidia-smi\n"
      ],
      "metadata": {
        "colab": {
          "base_uri": "https://localhost:8080/"
        },
        "id": "0Xe9NTjRkN3v",
        "outputId": "57790027-7dbb-4cd6-c9b8-6638ba08a988"
      },
      "execution_count": 22,
      "outputs": [
        {
          "output_type": "stream",
          "name": "stdout",
          "text": [
            "Sat May 11 07:31:26 2024       \n",
            "+---------------------------------------------------------------------------------------+\n",
            "| NVIDIA-SMI 535.104.05             Driver Version: 535.104.05   CUDA Version: 12.2     |\n",
            "|-----------------------------------------+----------------------+----------------------+\n",
            "| GPU  Name                 Persistence-M | Bus-Id        Disp.A | Volatile Uncorr. ECC |\n",
            "| Fan  Temp   Perf          Pwr:Usage/Cap |         Memory-Usage | GPU-Util  Compute M. |\n",
            "|                                         |                      |               MIG M. |\n",
            "|=========================================+======================+======================|\n",
            "|   0  NVIDIA A100-SXM4-40GB          Off | 00000000:00:04.0 Off |                    0 |\n",
            "| N/A   29C    P0              49W / 400W |  12491MiB / 40960MiB |      0%      Default |\n",
            "|                                         |                      |             Disabled |\n",
            "+-----------------------------------------+----------------------+----------------------+\n",
            "                                                                                         \n",
            "+---------------------------------------------------------------------------------------+\n",
            "| Processes:                                                                            |\n",
            "|  GPU   GI   CI        PID   Type   Process name                            GPU Memory |\n",
            "|        ID   ID                                                             Usage      |\n",
            "|=======================================================================================|\n",
            "+---------------------------------------------------------------------------------------+\n"
          ]
        }
      ]
    },
    {
      "cell_type": "code",
      "source": [
        "import torch\n",
        "from torch import nn\n",
        "from torchvision import datasets\n",
        "from torchvision.transforms import Compose, ToTensor, Resize, CenterCrop, Normalize\n",
        "from torch.utils.data import DataLoader\n",
        "from torchvision import transforms"
      ],
      "metadata": {
        "id": "EKDzBoXk63ji"
      },
      "execution_count": 14,
      "outputs": []
    },
    {
      "cell_type": "code",
      "source": [
        "from torchsummary import summary"
      ],
      "metadata": {
        "id": "o2DrOk77LnIM"
      },
      "execution_count": 2,
      "outputs": []
    },
    {
      "cell_type": "code",
      "source": [
        "device = (\n",
        "    \"cuda\"\n",
        "    if torch.cuda.is_available()\n",
        "    else \"cpu\"\n",
        ")\n",
        "print(f\"Using device {device}\")"
      ],
      "metadata": {
        "colab": {
          "base_uri": "https://localhost:8080/"
        },
        "id": "pE4wWjLU7Cml",
        "outputId": "8b2ec52b-fba3-4777-ccef-3ad3db773e53"
      },
      "execution_count": 3,
      "outputs": [
        {
          "output_type": "stream",
          "name": "stdout",
          "text": [
            "Using device cuda\n"
          ]
        }
      ]
    },
    {
      "cell_type": "code",
      "source": [
        "transform = Compose([\n",
        "    Resize(226),\n",
        "    CenterCrop(224),\n",
        "    ToTensor(),\n",
        "    Normalize((0.485, 0.456, 0.406), (0.229, 0.224, 0.225)),\n",
        "]\n",
        ")"
      ],
      "metadata": {
        "id": "k7g66gyimPBm"
      },
      "execution_count": 15,
      "outputs": []
    },
    {
      "cell_type": "code",
      "source": [
        "training_data = datasets.CIFAR10(\n",
        "    root = 'data',\n",
        "    train = True,\n",
        "    download = True,\n",
        "    transform = transform\n",
        ")\n",
        "\n",
        "test_data = datasets.CIFAR10(\n",
        "    root = 'data',\n",
        "    train = False,\n",
        "    download = True,\n",
        "    transform = transform\n",
        ")"
      ],
      "metadata": {
        "colab": {
          "base_uri": "https://localhost:8080/"
        },
        "id": "on4KMw1H7P2d",
        "outputId": "38931cc8-30f7-4d39-8f4f-163a71b0ebb5"
      },
      "execution_count": 16,
      "outputs": [
        {
          "output_type": "stream",
          "name": "stdout",
          "text": [
            "Files already downloaded and verified\n",
            "Files already downloaded and verified\n"
          ]
        }
      ]
    },
    {
      "cell_type": "code",
      "source": [
        "batch_size = 64\n",
        "train_dataloader = DataLoader(training_data, batch_size = batch_size, shuffle = True)\n",
        "test_dataloader = DataLoader(test_data, batch_size = batch_size, shuffle = False)"
      ],
      "metadata": {
        "id": "iglsMbOrnCpK"
      },
      "execution_count": 17,
      "outputs": []
    },
    {
      "cell_type": "code",
      "source": [
        "class vgg16(nn.Module):\n",
        "    def __init__(self):\n",
        "        super().__init__()\n",
        "        self.convetnets = nn.Sequential(\n",
        "            #conv1\n",
        "            nn.Conv2d(3, 64, kernel_size = 3, stride = 1, padding = 1),\n",
        "            nn.ReLU(),\n",
        "            nn.Conv2d(64, 64, kernel_size = 3, stride = 1, padding = 1),\n",
        "            nn.ReLU(),\n",
        "            nn.MaxPool2d(2, stride = 2),\n",
        "            #conv2\n",
        "            nn.Conv2d(64, 128, kernel_size = 3, padding = 1),\n",
        "            nn.ReLU(),\n",
        "            nn.Conv2d(128, 128, kernel_size = 3, stride = 1, padding = 1),\n",
        "            nn.ReLU(),\n",
        "            nn.MaxPool2d(2, stride = 2),\n",
        "            #conv3\n",
        "            nn.Conv2d(128, 256, kernel_size = 3, padding = 1),\n",
        "            nn.ReLU(),\n",
        "            nn.Conv2d(256, 256, kernel_size = 3, padding = 1),\n",
        "            nn.ReLU(),\n",
        "            nn.Conv2d(256, 256, kernel_size = 3, padding = 1),\n",
        "            nn.ReLU(),\n",
        "            nn.MaxPool2d(2, stride = 2),\n",
        "            #conv4\n",
        "            nn.Conv2d(256, 512, kernel_size = 3, padding = 1),\n",
        "            nn.ReLU(),\n",
        "            nn.Conv2d(512, 512, kernel_size = 3, padding = 1),\n",
        "            nn.ReLU(),\n",
        "            nn.Conv2d(512, 512, kernel_size = 3, padding = 1),\n",
        "            nn.ReLU(),\n",
        "            nn.MaxPool2d(2, stride = 2),\n",
        "            #conv5\n",
        "            nn.Conv2d(512, 512, kernel_size = 3, padding = 1),\n",
        "            nn.ReLU(),\n",
        "            nn.Conv2d(512, 512, kernel_size = 3, padding = 1),\n",
        "            nn.ReLU(),\n",
        "            nn.Conv2d(512, 512, kernel_size = 3, padding = 1),\n",
        "            nn.ReLU(),\n",
        "            nn.MaxPool2d(2, stride = 2),\n",
        "        )\n",
        "        self.classifier = nn.Sequential(\n",
        "            #fc1\n",
        "            nn.Linear(512*7*7 ,4096),\n",
        "            nn.ReLU(),\n",
        "            #fc2\n",
        "            nn.Linear(4096, 4096),\n",
        "            nn.ReLU(),\n",
        "            #fc3\n",
        "            nn.Linear(4096, 10)\n",
        "        )\n",
        "\n",
        "    def forward(self, x):\n",
        "        x = self.convetnets(x)\n",
        "        x = torch.flatten(x, 1)\n",
        "        x = self.classifier(x)\n",
        "        return x\n",
        "\n",
        "model = vgg16().to(device)\n",
        "print(model)"
      ],
      "metadata": {
        "colab": {
          "base_uri": "https://localhost:8080/"
        },
        "id": "lAgMxuaN8EoN",
        "outputId": "81a50517-5602-4665-c6a7-07ffcec4380e"
      },
      "execution_count": 18,
      "outputs": [
        {
          "output_type": "stream",
          "name": "stdout",
          "text": [
            "vgg16(\n",
            "  (convetnets): Sequential(\n",
            "    (0): Conv2d(3, 64, kernel_size=(3, 3), stride=(1, 1), padding=(1, 1))\n",
            "    (1): ReLU()\n",
            "    (2): Conv2d(64, 64, kernel_size=(3, 3), stride=(1, 1), padding=(1, 1))\n",
            "    (3): ReLU()\n",
            "    (4): MaxPool2d(kernel_size=2, stride=2, padding=0, dilation=1, ceil_mode=False)\n",
            "    (5): Conv2d(64, 128, kernel_size=(3, 3), stride=(1, 1), padding=(1, 1))\n",
            "    (6): ReLU()\n",
            "    (7): Conv2d(128, 128, kernel_size=(3, 3), stride=(1, 1), padding=(1, 1))\n",
            "    (8): ReLU()\n",
            "    (9): MaxPool2d(kernel_size=2, stride=2, padding=0, dilation=1, ceil_mode=False)\n",
            "    (10): Conv2d(128, 256, kernel_size=(3, 3), stride=(1, 1), padding=(1, 1))\n",
            "    (11): ReLU()\n",
            "    (12): Conv2d(256, 256, kernel_size=(3, 3), stride=(1, 1), padding=(1, 1))\n",
            "    (13): ReLU()\n",
            "    (14): Conv2d(256, 256, kernel_size=(3, 3), stride=(1, 1), padding=(1, 1))\n",
            "    (15): ReLU()\n",
            "    (16): MaxPool2d(kernel_size=2, stride=2, padding=0, dilation=1, ceil_mode=False)\n",
            "    (17): Conv2d(256, 512, kernel_size=(3, 3), stride=(1, 1), padding=(1, 1))\n",
            "    (18): ReLU()\n",
            "    (19): Conv2d(512, 512, kernel_size=(3, 3), stride=(1, 1), padding=(1, 1))\n",
            "    (20): ReLU()\n",
            "    (21): Conv2d(512, 512, kernel_size=(3, 3), stride=(1, 1), padding=(1, 1))\n",
            "    (22): ReLU()\n",
            "    (23): MaxPool2d(kernel_size=2, stride=2, padding=0, dilation=1, ceil_mode=False)\n",
            "    (24): Conv2d(512, 512, kernel_size=(3, 3), stride=(1, 1), padding=(1, 1))\n",
            "    (25): ReLU()\n",
            "    (26): Conv2d(512, 512, kernel_size=(3, 3), stride=(1, 1), padding=(1, 1))\n",
            "    (27): ReLU()\n",
            "    (28): Conv2d(512, 512, kernel_size=(3, 3), stride=(1, 1), padding=(1, 1))\n",
            "    (29): ReLU()\n",
            "    (30): MaxPool2d(kernel_size=2, stride=2, padding=0, dilation=1, ceil_mode=False)\n",
            "  )\n",
            "  (classifier): Sequential(\n",
            "    (0): Linear(in_features=25088, out_features=4096, bias=True)\n",
            "    (1): ReLU()\n",
            "    (2): Linear(in_features=4096, out_features=4096, bias=True)\n",
            "    (3): ReLU()\n",
            "    (4): Linear(in_features=4096, out_features=10, bias=True)\n",
            "  )\n",
            ")\n"
          ]
        }
      ]
    },
    {
      "cell_type": "code",
      "source": [
        "summary(model, (3, 224, 224))"
      ],
      "metadata": {
        "colab": {
          "base_uri": "https://localhost:8080/"
        },
        "id": "oHOJFPfOLyiI",
        "outputId": "72127a3a-e541-48aa-f234-854664d1e6ef"
      },
      "execution_count": 8,
      "outputs": [
        {
          "output_type": "stream",
          "name": "stdout",
          "text": [
            "----------------------------------------------------------------\n",
            "        Layer (type)               Output Shape         Param #\n",
            "================================================================\n",
            "            Conv2d-1         [-1, 64, 224, 224]           1,792\n",
            "              ReLU-2         [-1, 64, 224, 224]               0\n",
            "            Conv2d-3         [-1, 64, 224, 224]          36,928\n",
            "              ReLU-4         [-1, 64, 224, 224]               0\n",
            "         MaxPool2d-5         [-1, 64, 112, 112]               0\n",
            "            Conv2d-6        [-1, 128, 112, 112]          73,856\n",
            "              ReLU-7        [-1, 128, 112, 112]               0\n",
            "            Conv2d-8        [-1, 128, 112, 112]         147,584\n",
            "              ReLU-9        [-1, 128, 112, 112]               0\n",
            "        MaxPool2d-10          [-1, 128, 56, 56]               0\n",
            "           Conv2d-11          [-1, 256, 56, 56]         295,168\n",
            "             ReLU-12          [-1, 256, 56, 56]               0\n",
            "           Conv2d-13          [-1, 256, 56, 56]         590,080\n",
            "             ReLU-14          [-1, 256, 56, 56]               0\n",
            "           Conv2d-15          [-1, 256, 56, 56]         590,080\n",
            "             ReLU-16          [-1, 256, 56, 56]               0\n",
            "        MaxPool2d-17          [-1, 256, 28, 28]               0\n",
            "           Conv2d-18          [-1, 512, 28, 28]       1,180,160\n",
            "             ReLU-19          [-1, 512, 28, 28]               0\n",
            "           Conv2d-20          [-1, 512, 28, 28]       2,359,808\n",
            "             ReLU-21          [-1, 512, 28, 28]               0\n",
            "           Conv2d-22          [-1, 512, 28, 28]       2,359,808\n",
            "             ReLU-23          [-1, 512, 28, 28]               0\n",
            "        MaxPool2d-24          [-1, 512, 14, 14]               0\n",
            "           Conv2d-25          [-1, 512, 14, 14]       2,359,808\n",
            "             ReLU-26          [-1, 512, 14, 14]               0\n",
            "           Conv2d-27          [-1, 512, 14, 14]       2,359,808\n",
            "             ReLU-28          [-1, 512, 14, 14]               0\n",
            "           Conv2d-29          [-1, 512, 14, 14]       2,359,808\n",
            "             ReLU-30          [-1, 512, 14, 14]               0\n",
            "        MaxPool2d-31            [-1, 512, 7, 7]               0\n",
            "           Linear-32                 [-1, 4096]     102,764,544\n",
            "             ReLU-33                 [-1, 4096]               0\n",
            "           Linear-34                 [-1, 4096]      16,781,312\n",
            "             ReLU-35                 [-1, 4096]               0\n",
            "           Linear-36                   [-1, 10]          40,970\n",
            "================================================================\n",
            "Total params: 134,301,514\n",
            "Trainable params: 134,301,514\n",
            "Non-trainable params: 0\n",
            "----------------------------------------------------------------\n",
            "Input size (MB): 0.57\n",
            "Forward/backward pass size (MB): 218.52\n",
            "Params size (MB): 512.32\n",
            "Estimated Total Size (MB): 731.41\n",
            "----------------------------------------------------------------\n"
          ]
        }
      ]
    },
    {
      "cell_type": "code",
      "source": [
        "loss_fn = nn.CrossEntropyLoss()\n",
        "optimizer = torch.optim.Adam(model.parameters(), lr = 1e-3)"
      ],
      "metadata": {
        "id": "TwV2tb42pJUT"
      },
      "execution_count": 19,
      "outputs": []
    },
    {
      "cell_type": "code",
      "source": [
        "def train_loop(dataloader, model, optimizer, loss_fn, batch_size):\n",
        "    size = len(dataloader.dataset)\n",
        "    model.train()\n",
        "    for batch, (x, y) in enumerate(dataloader):\n",
        "        x, y = x.to(device), y.to(device)\n",
        "        preds = model(x)\n",
        "        loss = loss_fn(preds, y)\n",
        "\n",
        "        #backpropagation\n",
        "        loss.backward()\n",
        "        optimizer.step()\n",
        "        optimizer.zero_grad()\n",
        "\n",
        "        if batch % 100 == 0:\n",
        "            loss, current = loss.item(), (batch+1)*batch_size\n",
        "            print(f\"loss: {loss:>7f}  [{current:>5d}/{size:>5d}]\")\n",
        "\n",
        "\n",
        "def test_loop(dataloader, model, loss_fn):\n",
        "    len_batch = len(dataloader)\n",
        "    total_loss, correct = 0, 0\n",
        "    model.eval()\n",
        "    with torch.no_grad():\n",
        "        for x, y in dataloader:\n",
        "            x, y = x.to(device), y.to(device)\n",
        "            preds = model(x)\n",
        "            total_loss += loss_fn(preds, y).item()\n",
        "            correct += (preds.argmax(1) == y).type(torch.float).sum().item()\n",
        "\n",
        "    test_loss = total_loss/len_batch # average for batch_size\n",
        "    test_correct = correct/len(dataloader.dataset)\n",
        "    print(f\"Test Error: \\n Accuracy: {(100*test_correct):>0.1f}%, Avg loss: {test_loss:>8f} \\n\")"
      ],
      "metadata": {
        "id": "eCd7tWT-m-x-"
      },
      "execution_count": 20,
      "outputs": []
    },
    {
      "cell_type": "code",
      "source": [
        "epochs = 10\n",
        "for epoch in range(epochs):\n",
        "    print(f\"Epoch {epoch+1}\\n----------------------------\")\n",
        "    train_loop(train_dataloader, model, optimizer, loss_fn, batch_size)\n",
        "    test_loop(test_dataloader, model, loss_fn)\n",
        "print(\"Done\")"
      ],
      "metadata": {
        "colab": {
          "base_uri": "https://localhost:8080/"
        },
        "id": "5FlGnzODr46G",
        "outputId": "3dd16e3b-528b-4fa3-8ad0-d9e8e7a0c645"
      },
      "execution_count": 21,
      "outputs": [
        {
          "output_type": "stream",
          "name": "stdout",
          "text": [
            "Epoch 1\n",
            "----------------------------\n",
            "loss: 2.301365  [   64/50000]\n",
            "loss: 2.073526  [ 6464/50000]\n",
            "loss: 1.749542  [12864/50000]\n",
            "loss: 1.754463  [19264/50000]\n",
            "loss: 1.875210  [25664/50000]\n",
            "loss: 1.927886  [32064/50000]\n",
            "loss: 1.694125  [38464/50000]\n",
            "loss: 1.555491  [44864/50000]\n",
            "Test Error: \n",
            " Accuracy: 43.3%, Avg loss: 1.529540 \n",
            "\n",
            "Epoch 2\n",
            "----------------------------\n",
            "loss: 1.546105  [   64/50000]\n",
            "loss: 1.429336  [ 6464/50000]\n",
            "loss: 1.691718  [12864/50000]\n",
            "loss: 1.241641  [19264/50000]\n",
            "loss: 1.307496  [25664/50000]\n",
            "loss: 1.373110  [32064/50000]\n",
            "loss: 1.217593  [38464/50000]\n",
            "loss: 1.195924  [44864/50000]\n",
            "Test Error: \n",
            " Accuracy: 59.2%, Avg loss: 1.149625 \n",
            "\n",
            "Epoch 3\n",
            "----------------------------\n",
            "loss: 1.063754  [   64/50000]\n",
            "loss: 1.201601  [ 6464/50000]\n",
            "loss: 1.183943  [12864/50000]\n",
            "loss: 1.120611  [19264/50000]\n",
            "loss: 0.822925  [25664/50000]\n",
            "loss: 0.951020  [32064/50000]\n",
            "loss: 0.726578  [38464/50000]\n",
            "loss: 1.001922  [44864/50000]\n",
            "Test Error: \n",
            " Accuracy: 62.2%, Avg loss: 1.075224 \n",
            "\n",
            "Epoch 4\n",
            "----------------------------\n",
            "loss: 0.910232  [   64/50000]\n",
            "loss: 1.012166  [ 6464/50000]\n",
            "loss: 0.894541  [12864/50000]\n",
            "loss: 0.842583  [19264/50000]\n",
            "loss: 0.783735  [25664/50000]\n",
            "loss: 0.789489  [32064/50000]\n",
            "loss: 0.989592  [38464/50000]\n",
            "loss: 0.765748  [44864/50000]\n",
            "Test Error: \n",
            " Accuracy: 69.2%, Avg loss: 0.884933 \n",
            "\n",
            "Epoch 5\n",
            "----------------------------\n",
            "loss: 0.573467  [   64/50000]\n",
            "loss: 0.366660  [ 6464/50000]\n",
            "loss: 0.443525  [12864/50000]\n",
            "loss: 0.598242  [19264/50000]\n",
            "loss: 0.641221  [25664/50000]\n",
            "loss: 0.472914  [32064/50000]\n",
            "loss: 0.425033  [38464/50000]\n",
            "loss: 0.403694  [44864/50000]\n",
            "Test Error: \n",
            " Accuracy: 68.8%, Avg loss: 0.930688 \n",
            "\n",
            "Epoch 6\n",
            "----------------------------\n",
            "loss: 0.364366  [   64/50000]\n",
            "loss: 0.417877  [ 6464/50000]\n",
            "loss: 0.315892  [12864/50000]\n",
            "loss: 0.201257  [19264/50000]\n",
            "loss: 0.543768  [25664/50000]\n",
            "loss: 0.261692  [32064/50000]\n",
            "loss: 0.529278  [38464/50000]\n",
            "loss: 0.331182  [44864/50000]\n",
            "Test Error: \n",
            " Accuracy: 69.6%, Avg loss: 1.007046 \n",
            "\n",
            "Epoch 7\n",
            "----------------------------\n",
            "loss: 0.143745  [   64/50000]\n",
            "loss: 0.411966  [ 6464/50000]\n",
            "loss: 0.204150  [12864/50000]\n",
            "loss: 0.273789  [19264/50000]\n",
            "loss: 0.197855  [25664/50000]\n",
            "loss: 0.328330  [32064/50000]\n",
            "loss: 0.177997  [38464/50000]\n",
            "loss: 0.430853  [44864/50000]\n",
            "Test Error: \n",
            " Accuracy: 69.4%, Avg loss: 1.316185 \n",
            "\n",
            "Epoch 8\n",
            "----------------------------\n",
            "loss: 0.136692  [   64/50000]\n",
            "loss: 0.240742  [ 6464/50000]\n",
            "loss: 0.243424  [12864/50000]\n",
            "loss: 0.275589  [19264/50000]\n",
            "loss: 0.298334  [25664/50000]\n",
            "loss: 0.122186  [32064/50000]\n",
            "loss: 0.282546  [38464/50000]\n",
            "loss: 0.181244  [44864/50000]\n",
            "Test Error: \n",
            " Accuracy: 69.6%, Avg loss: 1.388446 \n",
            "\n",
            "Epoch 9\n",
            "----------------------------\n",
            "loss: 0.059174  [   64/50000]\n",
            "loss: 0.037110  [ 6464/50000]\n",
            "loss: 0.163362  [12864/50000]\n",
            "loss: 0.348154  [19264/50000]\n",
            "loss: 0.201781  [25664/50000]\n",
            "loss: 0.144730  [32064/50000]\n",
            "loss: 0.129894  [38464/50000]\n",
            "loss: 0.414265  [44864/50000]\n",
            "Test Error: \n",
            " Accuracy: 69.1%, Avg loss: 1.493155 \n",
            "\n",
            "Epoch 10\n",
            "----------------------------\n",
            "loss: 0.045424  [   64/50000]\n",
            "loss: 0.047983  [ 6464/50000]\n",
            "loss: 0.064098  [12864/50000]\n",
            "loss: 0.156652  [19264/50000]\n",
            "loss: 0.169037  [25664/50000]\n",
            "loss: 0.102635  [32064/50000]\n",
            "loss: 0.088295  [38464/50000]\n",
            "loss: 0.075366  [44864/50000]\n",
            "Test Error: \n",
            " Accuracy: 67.7%, Avg loss: 1.873080 \n",
            "\n",
            "Done\n"
          ]
        }
      ]
    }
  ]
}